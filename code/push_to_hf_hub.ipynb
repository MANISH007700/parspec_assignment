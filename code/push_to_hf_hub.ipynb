{
 "cells": [
  {
   "cell_type": "code",
   "execution_count": 1,
   "metadata": {},
   "outputs": [
    {
     "name": "stdout",
     "output_type": "stream",
     "text": [
      "Model and tokenizer loaded successfully...\n"
     ]
    },
    {
     "data": {
      "application/vnd.jupyter.widget-view+json": {
       "model_id": "736d2d829ae041d29e1dc17c5d5a870f",
       "version_major": 2,
       "version_minor": 0
      },
      "text/plain": [
       "VBox(children=(HTML(value='<center> <img\\nsrc=https://huggingface.co/front/assets/huggingface_logo-noborder.sv…"
      ]
     },
     "metadata": {},
     "output_type": "display_data"
    }
   ],
   "source": [
    "# pip install transformers huggingface_hub\n",
    "\n",
    "import os \n",
    "import torch\n",
    "from transformers import BertTokenizer, BertForSequenceClassification\n",
    "from huggingface_hub import notebook_login\n",
    "\n",
    "\n",
    "# load it locally first \n",
    "model = BertForSequenceClassification.from_pretrained(\"/mnt/g/Users/Manish/Desktop/interview_prep/parspec/parspec_assignment/code/finetuned_model\")\n",
    "tokenizer = BertTokenizer.from_pretrained(\"/mnt/g/Users/Manish/Desktop/interview_prep/parspec/parspec_assignment/code/finetuned_model\")\n",
    "\n",
    "print(\"Model and tokenizer loaded successfully...\")\n",
    "notebook_login()\n"
   ]
  },
  {
   "cell_type": "code",
   "execution_count": 2,
   "metadata": {},
   "outputs": [
    {
     "data": {
      "text/plain": [
       "CommitInfo(commit_url='https://huggingface.co/luci007/LightingData-Bert-Finetuned/commit/0d9d571e7c2c8c193040f61dc783f31410c5a238', commit_message='Upload tokenizer', commit_description='', oid='0d9d571e7c2c8c193040f61dc783f31410c5a238', pr_url=None, pr_revision=None, pr_num=None)"
      ]
     },
     "execution_count": 2,
     "metadata": {},
     "output_type": "execute_result"
    }
   ],
   "source": [
    "model.push_to_hub(\"luci007/LightingData-Bert-Finetuned\")\n",
    "tokenizer.push_to_hub(\"luci007/LightingData-Bert-Finetuned\")"
   ]
  },
  {
   "cell_type": "code",
   "execution_count": null,
   "metadata": {},
   "outputs": [],
   "source": []
  },
  {
   "cell_type": "code",
   "execution_count": null,
   "metadata": {},
   "outputs": [],
   "source": [
    "model_try = BertForSequenceClassification.from_pretrained(\"luci007/LightingData-Bert-Finetuned\")\n",
    "tokenizer_try = BertTokenizer.from_pretrained('luci007/LightingData-Bert-Finetuned')"
   ]
  },
  {
   "cell_type": "code",
   "execution_count": null,
   "metadata": {},
   "outputs": [],
   "source": [
    "model_try"
   ]
  },
  {
   "cell_type": "code",
   "execution_count": null,
   "metadata": {},
   "outputs": [],
   "source": [
    "text = \"\"\"lighting solutions canless ez trim lamp based canless downlight durable metal baffle trim attached j box housing required installation compatible led gu , gu e lamps maximum lamp wattage w ic rated, direct contact insulation spring clips firmly secure fixture ceiling air tite pre installed gasket b quick connect pre installed push wiring connectors c slide n side pre installed tool less strain reliefs eliminate need additional non metallic cable connectors product features traditional housing features minus housing canless ez trim canless ez trim bridges gap traditional downlighting housing trim lamp canless led downlighting canless ez trim available apertures designed look like halo best selling trim, wb features durable metal trim, attached junction box, white baffles ultimate visual comfort options gu , gu , e lamp bases make canless ez trim compatible led lamps market shallow options available aperture sizes, making perfect solution x construction air tite, ic rated, course, housings required installation halo canless ez trim perfect solution customers looking value priced, canless solutions single family multi family residential applications hl rsmf round square mounting frame mf rc round mounting frame drywall collar cez gu wbicat cez e wbicat hl rsmf round square mounting frame mf rc round mounting frame drywall collar cez gu wbicat cez e wbicat cez gu wbicat cez e wbicat also compatible halo mounting frames cut hole wire fixture install fixture install lamp lamp included b c learn scan canless ez trim cez gu wbicat inch, shallow gu lamp cez gu wbicat inch, shallow gu lamp cez e wbicat inch, shallow e lamp cez gu wbicat inch gu lamp cez e wbicat inch e lamp cez gu wbicat inch, shallow gu lamp cez e wbicat inch, shallow e lamp catalog number description upc accessories mounting frame designer overlays cez gu wbicat canless ez trim, gu lamp base, white flange white baffle trim, ic rated, air tite cez gu wbicat canless ez trim, gu lamp base, white flange white baffle trim, ic rated, air tite hl rsmf round square mounting frame mf rc round mounting frame drywall collar cez e wbicat canless ez trim, e lamp base, white flange white baffle trim, ic rated, air tite cez gu wbicat canless ez trim, gu lamp base, white flange white baffle trim, ic rated, air tite hl rsmf round square mounting frame mf rc round mounting frame drywall collar cez ltrmwhwb lens overlay, white trim, white baffle cez ltrmwhbb lens overlay, white trim, black baffle cez ltrmbkbb lens overlay, black trim, black baffle cez ltrmsn lens overlay, satin nickel cez ltrmtbz lens overlay, tuscan bronze cez gu wbicat canless ez trim, shallow, gu lamp base, white flange white baffle trim, ic rated, air tite cez e wbicat canless ez trim, e lamp base, white flange white baffle trim, ic rated, air tite cez e wbicat canless ez trim, shallow, e lamp base, white flange white baffle trim, ic rated, air tite compatible lamps included fixture maximum lamp wattage w designer overlays compatible cez fixtures cez gu wbicat cez gu wbicat cez gu wbicat cez gu wbicat cez e wbicat cez e wbicat cez e wbicat mr led gu par led gu mr led gu led gu par led gu br led gu br led gu par l led gu par led gu r led gu led gu br led gu par l led gu par led gu r l led gu mr led e par led e led e par led e br led e br led e par l led e par led e r led e led e br led e par l led e par led e r l led e cez ltrmwhwb cez ltrmsn cez ltrmwhbb cez ltrmtbz cez ltrmbkbb wet location rated lens, perfect bathrooms soffits trademarks property respective owners product availability, specifications, compliances subject change without notice canada sales mclaughlin road mississauga, ontario l r b p f cooper lighting solutions highway south peachtree city, ga p wwwcooperlightingcom cooper lighting solutions rights reserved printed usa publication br july , pm lighting brands ametrix atlite corelite ephesus fail safe halo halo commercial invue io iris lumark lumi mcgraw edison metalux mws neo ray portfolio prentalux printed lighting rsa shaper streetworks sure lites telensa controls brands greengate fifth light intelligent lighting controls connected lighting systems smart spaces platform wavelinx\"\"\"\n",
    "\n",
    "\n",
    "inputs = tokenizer(text, padding = True, truncation = True, return_tensors='pt').to('cuda')\n",
    "outputs = model_1(**inputs)\n",
    "predictions = torch.nn.functional.softmax(outputs.logits, dim=-1)\n",
    "output_class = predictions.argmax().item()\n",
    "\n",
    "print(\"Pred class from model -> \", output_class)"
   ]
  }
 ],
 "metadata": {
  "kernelspec": {
   "display_name": "ml_dl",
   "language": "python",
   "name": "python3"
  },
  "language_info": {
   "codemirror_mode": {
    "name": "ipython",
    "version": 3
   },
   "file_extension": ".py",
   "mimetype": "text/x-python",
   "name": "python",
   "nbconvert_exporter": "python",
   "pygments_lexer": "ipython3",
   "version": "3.10.5"
  }
 },
 "nbformat": 4,
 "nbformat_minor": 2
}
