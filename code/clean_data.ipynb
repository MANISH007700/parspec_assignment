{
 "cells": [
  {
   "cell_type": "code",
   "execution_count": 9,
   "metadata": {},
   "outputs": [],
   "source": [
    "import pandas as pd \n",
    "import os \n",
    "import json \n",
    "import re \n",
    "from string import punctuation\n",
    "from nltk.corpus import stopwords "
   ]
  },
  {
   "cell_type": "code",
   "execution_count": 10,
   "metadata": {},
   "outputs": [],
   "source": [
    "sw = stopwords.words('english')\n",
    "\n",
    "def clean_text(text):\n",
    "    \n",
    "    text = text.lower()\n",
    "    \n",
    "    text = re.sub(r\"[^a-zA-Z?.!,¿]+\", \" \", text) # replacing everything with space except (a-z, A-Z, \".\", \"?\", \"!\", \",\")\n",
    "\n",
    "    text = re.sub(r\"http\\S+\", \"\",text) #Removing URLs \n",
    "    #text = re.sub(r\"http\", \"\",text)\n",
    "    \n",
    "    html=re.compile(r'<.*?>') \n",
    "    \n",
    "    text = html.sub(r'',text) #Removing html tags\n",
    "    \n",
    "    punctuations = '@#!?+&*[]-%.:/();$=><|{}^' + \"'`\" + '_'\n",
    "    for p in punctuations:\n",
    "        text = text.replace(p,'') #Removing punctuations\n",
    "        \n",
    "    text = [word.lower() for word in text.split() if word.lower() not in sw]\n",
    "    \n",
    "    text = \" \".join(text) #removing stopwords\n",
    "    \n",
    "    return text"
   ]
  },
  {
   "cell_type": "code",
   "execution_count": 14,
   "metadata": {},
   "outputs": [],
   "source": [
    "## load train and holdout csv ##\n",
    "\n",
    "train_df = pd.read_csv(r\"/mnt/g/Users/Manish/Desktop/interview_prep/parspec/parspec_assignment/code/training_df_info.csv\")\n",
    "test_df = pd.read_csv(r\"/mnt/g/Users/Manish/Desktop/interview_prep/parspec/parspec_assignment/code/testing_df_info.csv\")\n",
    "\n",
    "# drop na\n",
    "train_df.dropna(inplace = True)\n",
    "test_df.dropna(inplace = True)\n"
   ]
  },
  {
   "cell_type": "code",
   "execution_count": 15,
   "metadata": {},
   "outputs": [
    {
     "data": {
      "text/plain": [
       "0    FEATURES Different color and beam configuratio...\n",
       "1    Recommended Use: Architectural Landscaping Gen...\n",
       "2    DATA SHEET HURRICANE EVO IN WALL GLASS Made in...\n",
       "Name: input_text, dtype: object"
      ]
     },
     "execution_count": 15,
     "metadata": {},
     "output_type": "execute_result"
    }
   ],
   "source": [
    "train_df['input_text'][:3]"
   ]
  },
  {
   "cell_type": "code",
   "execution_count": 16,
   "metadata": {},
   "outputs": [],
   "source": [
    "train_df['input_text_clean'] = train_df['input_text'].apply(lambda x: clean_text(x))\n",
    "test_df['input_text_clean'] = test_df['input_text'].apply(lambda x: clean_text(x))"
   ]
  },
  {
   "cell_type": "code",
   "execution_count": 20,
   "metadata": {},
   "outputs": [
    {
     "name": "stdout",
     "output_type": "stream",
     "text": [
      "features different color beam configurations available aluminum alloy housing, high heat dissipation performance universal power supply easy installation year warranty electrical input vac etl listed w decors led dual light led dual light decors usa llc phone wwwdecorsusacom sales decorsusacom available colors blue green amber warm white k cool white k red purple decors led dual light led dual light decors usa llc phone wwwdecorsusacom sales decorsusacom photometrics h medlux maxlux h medlux maxlux\n"
     ]
    }
   ],
   "source": [
    "print(train_df['input_text_clean'][0])"
   ]
  },
  {
   "cell_type": "code",
   "execution_count": 21,
   "metadata": {},
   "outputs": [
    {
     "name": "stdout",
     "output_type": "stream",
     "text": [
      "FEATURES Different color and beam configurations available. Aluminum alloy housing, high heat dissipation performance. Universal power supply. Easy Installation. 3-Year Warranty. Electrical Input: 100-277 VAC ETL Listed 25W DECORS LED DUAL LIGHT LED DUAL light ©Decors USA LLC Phone: 866.248.6300 | 732.486.8520 | www.decorsusa.com | sales@decorsusa.com \fAVAILABLE COLORS Blue Green Amber Warm White (3000K) Cool  White (5000K) Red  Purple DECORS LED DUAL LIGHT LED DUAL light ©Decors USA LLC Phone: 866.248.6300 | 732.486.8520 | www.decorsusa.com | sales@decorsusa.com 15° 120° 120° 150° 150° PHOTOMETRICS H(m) 2.00 5.00 10.00 15.00 Medlux 3347.2 546.2 133.9 33.3 Maxlux 4904.3 784.8 196.2 48.8 25° 120° 120° 150° 150° H(m) 2.00 5.00 10.00 15.00 Medlux 873 139.5 34.7 8 Maxlux 1312.3 203.7 49.3 12.5 \f\f\n"
     ]
    }
   ],
   "source": [
    "print(train_df['input_text'][0])"
   ]
  },
  {
   "cell_type": "code",
   "execution_count": 22,
   "metadata": {},
   "outputs": [],
   "source": [
    "## save these csv file back \n",
    "train_df.to_csv(\"train_df_clean.csv\", index=False)\n",
    "test_df.to_csv(\"test_df_clean.csv\", index=False)\n"
   ]
  }
 ],
 "metadata": {
  "kernelspec": {
   "display_name": "ml_dl",
   "language": "python",
   "name": "python3"
  },
  "language_info": {
   "codemirror_mode": {
    "name": "ipython",
    "version": 3
   },
   "file_extension": ".py",
   "mimetype": "text/x-python",
   "name": "python",
   "nbconvert_exporter": "python",
   "pygments_lexer": "ipython3",
   "version": "3.10.5"
  }
 },
 "nbformat": 4,
 "nbformat_minor": 2
}
