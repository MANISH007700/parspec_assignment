{
 "cells": [
  {
   "cell_type": "code",
   "execution_count": 27,
   "metadata": {},
   "outputs": [],
   "source": [
    "## import the libs ##\n",
    "import os\n",
    "import re\n",
    "import pandas as pd \n",
    "import numpy as np\n",
    "import sys, pathlib, fitz\n",
    "import requests \n",
    "\n",
    "from nltk.corpus import stopwords\n",
    "from tqdm import tqdm\n",
    "from pandas import DataFrame\n",
    "from loguru import logger\n",
    "\n",
    "\n",
    "# import torch specs\n",
    "import torch\n",
    "from transformers import pipeline, BertForSequenceClassification, BertTokenizerFast\n",
    "from torch.utils.data import Dataset\n",
    "from torch import cuda\n",
    "from transformers import TrainingArguments, Trainer\n",
    "from sklearn.metrics import accuracy_score, recall_score, precision_score, f1_score, confusion_matrix\n",
    "\n",
    "\n",
    "# !pip install accelerate -U\n",
    "# !pip install sentencepiece"
   ]
  },
  {
   "cell_type": "code",
   "execution_count": 28,
   "metadata": {},
   "outputs": [],
   "source": [
    "# download pdf using url \n",
    "def download_pdf_from_url(file_url: str) -> None:\n",
    "    \n",
    "    # default vals\n",
    "    save_path = \"tuts_file\"\n",
    "    file_id = \"temp\"\n",
    "\n",
    "    response = requests.get(file_url)   # get request\n",
    "    if response.status_code == 200:\n",
    "        # The content of the PDF file is in response.content\n",
    "        # save the file in a pdf \n",
    "        full_path = os.path.join(save_path, file_id + \".pdf\")\n",
    "\n",
    "        with open(full_path, \"wb\") as pdf_file:\n",
    "            pdf_file.write(response.content)\n",
    "        print(f\"PDF-ID {file_id} downloaded successfully.\")\n",
    "    else:\n",
    "        print(f\"Failed to download PDF-ID {file_id}. Status code: {response.status_code}\")\n",
    "\n",
    "    return full_path\n",
    "\n",
    "\n",
    "# extract text function \n",
    "def extract_text_and_save(pdf_path):\n",
    "\n",
    "    # extract text and save in .txt file\n",
    "    with fitz.open(pdf_path) as doc:  # open document\n",
    "        text = chr(12).join([page.get_text() for page in doc])\n",
    "    logger.info(f\"All text extracted, {pdf_path},  saving them....\")\n",
    "\n",
    "    # write as a binary file to support non-ASCII characters\n",
    "    save_text_path = pdf_path.split(\".\")[0] + \".txt\"\n",
    "    pathlib.Path(save_text_path).write_bytes(text.encode())\n",
    "\n",
    "    return save_text_path\n",
    "\n",
    "\n",
    "# clean text function \n",
    "def clean_text(text_file):\n",
    "    if text_file.endswith('.txt'):\n",
    "\n",
    "        # Read the content of each text file\n",
    "        with open(text_file, 'r') as file:\n",
    "            text_content = file.read()\n",
    "\n",
    "        sw = stopwords.words('english')\n",
    "\n",
    "        text_content = text_content.replace(\"\\n\", \" \").replace(\"•\", \"\").lower()\n",
    "        text = re.sub(r\"[^a-zA-Z?.!,¿]+\", \" \", text_content)  # replacing everything with space except (a-z, A-Z, \".\", \"?\", \"!\", \",\")\n",
    "        text = re.sub(r\"http\\S+\", \"\", text)  # Removing URLs \n",
    "        html = re.compile(r'<.*?>') \n",
    "        text = html.sub(r'', text)  # Removing html tags\n",
    "        \n",
    "        punctuations = '@#!?+&*[]-%.:/();$=><|{}^' + \"'`\" + '_'\n",
    "        for p in punctuations:\n",
    "            text = text.replace(p, '')  # Removing punctuations\n",
    "        text = [word.lower() for word in text.split() if word.lower() not in sw]\n",
    "        text = \" \".join(text)  # removing stopwords        \n",
    "        return {\"cleaned_text\": text, \"status\": True}\n"
   ]
  },
  {
   "cell_type": "markdown",
   "metadata": {},
   "source": [
    "## If you have to check by passing PDF, run the below cell"
   ]
  },
  {
   "cell_type": "code",
   "execution_count": 29,
   "metadata": {},
   "outputs": [
    {
     "name": "stderr",
     "output_type": "stream",
     "text": [
      "\u001b[32m2023-12-02 17:43:25.638\u001b[0m | \u001b[1mINFO    \u001b[0m | \u001b[36m__main__\u001b[0m:\u001b[36mextract_text_and_save\u001b[0m:\u001b[36m29\u001b[0m - \u001b[1mAll text extracted, tuts_file/P-14.pdf,  saving them....\u001b[0m\n"
     ]
    },
    {
     "name": "stdout",
     "output_type": "stream",
     "text": [
      "copyright , everlight rights reserved release date dec issue dle rev wwweverlightcom lamp sugd features choice various viewing angles available tape reel reliable robust pb free product remain within rohs compliant version description series specially designed applications requiring higher brightness led lamps available different colors, intensities applications tv set monitor telephone computer ver release date approved datasheet lamp sugd copyright , everlight rights reserved release date dec issue dle rev wwweverlightcom device selection guide chip materials emitted color resin color ingan brilliant green green diffused absolute maximum ratings ta parameter symbol rating unit continuous forward current peak forward current duty khz ifp reverse voltage vr v power dissipation pd mw operating temperature topr storage temperature tstg soldering temperature tsol sec electro optical characteristics ta parameter symbol min typ max unit condition luminous intensity iv mcd viewing angle deg peak wavelength p nm dominant wavelength nm spectrum radiation bandwidth nm forward voltage vf v reverse current ir vr v ver release date approved datasheet lamp sugd copyright , everlight rights reserved release date dec issue dle rev wwweverlightcom typical electro optical characteristics curves relative intensity vs wavelength ta directivity ta relative intensity au radiation angle wavelength nm relative intensity au forward current vs forward voltage ta relative intensity vs forward current ta forward current relative intensity au forward voltage v forward current relative intensity vs ambient temp forward current vs ambient temp relative intensity au forward current ambient temperature ta ambient temperature ta ver release date approved datasheet lamp sugd copyright , everlight rights reserved release date dec issue dle rev wwweverlightcom package dimension note note dimensions millimeters height flange must less mm without special declared, tolerance mm ver release date approved datasheet lamp sugd copyright , everlight rights reserved release date dec issue dle rev wwweverlightcom pb el ectrostatic electronagnetic magnetic radioactive relds anti static moisture resistant packing materials label explanation cpn customer production number p n production number qty packing quantity cat ranks hue dominant wavelength ref reference lot lot number packing specification anti electrostatic bag inner carton outside carton rohs pb x everlight sugd packing quantity pcs bag, bags inner carton inner cartons outside carton ver release date approved datasheet lamp sugd copyright , everlight rights reserved release date dec issue dle rev wwweverlightcom prehead laminar wave fluxing notes lead forming lead formation, leads bent point least mm base epoxy bulb lead forming done soldering avoid stressing led package leads forming stress base may damage led characteristics may break leds cut led lead frames room temperature cutting lead frames high temperatures may cause failure leds mounting leds onto pcb, pcb holes must aligned exactly lead position led leds mounted stress leads, causes deterioration epoxy resin degrade leds storage leds stored c less rh less shipped everlight storage life limits months leds stored months more, stored year sealed container nitrogen atmosphere moisture absorbent material please avoid rapid transitions ambient temperature, especially, high humidity environments condensation occur soldering careful attention paid soldering soldering, leave mm solder joint epoxy bulb, soldering beyond base tie bar recommended recommended soldering conditions hand soldering dip soldering temp tip iron max w max preheat temp max sec max soldering time sec max bath temp time max, sec max distance mm min solder joint epoxy bulb distance mm min solder joint epoxy bulb recommended soldering profile avoiding applying stress lead frame leds high temperature particularly soldering dip hand soldering done one time soldering leds, epoxy bulb protected mechanical shock vibration leds return room temperature ver release date approved datasheet lamp sugd copyright , everlight rights reserved release date dec issue dle rev wwweverlightcom rapid rate process recommended cooling leds peak temperature although recommended soldering conditions specified table, dip hand soldering lowest possible temperature desirable leds wave soldering parameter must set maintain according recommended temperature dwell time solder wave cleaning necessary, cleaning occur isopropyl alcohol room temperature duration one minute dry room temperature use clean leds ultrasonic absolutely necessary, influence ultrasonic cleaning leds depends factors ultrasonic power assembled condition ultrasonic cleaning shall pre qualified ensure cause damage led heat management heat management leds must taken consideration design stage led application current de rated appropriately referring de rating curve found product specification temperature surrounding led application controlled please refer data sheet de rating curve esd electrostatic discharge products sensitive static electricity surge voltage esd damage die reliability handling products, following measures electrostatic discharge strongly recommended eliminating charge grounded wrist strap, esd footwear, clothes, floors grounded workstation equipment tools esd table shelf mat made conductive materials proper grounding required devices, equipment, machinery used product assembly surge protection considered designing commercial products tools equipment contain insulating materials glass plastic, following measures electrostatic discharge strongly recommended dissipating static charge conductive materials preventing charge generation moisture neutralizing charge ionizers directions use leds operated forward bias driving circuit must designed leds subjected forward reverse voltage reverse voltage continuously applied leds, may cause migration resulting led damage specification may changed without notice everlight reserve authority material change specification using product, please observe absolute maximum ratings instructions using outlined specification sheets everlight assumes responsibility damage resulting use product comply absolute maximum ratings instructions included specification sheets ver release date approved datasheet lamp sugd copyright , everlight rights reserved release date dec issue dle rev wwweverlightcom specification sheets include materials protected copyright everlight corporation please reproduce cause anyone reproduce without everlight consent ver release date approved\n"
     ]
    }
   ],
   "source": [
    "# loading via pdf \n",
    "\n",
    "pdf_path = r\"tuts_file/P-14.pdf\"\n",
    "\n",
    "extracted_text_path = extract_text_and_save(pdf_path)\n",
    "cleaned_text = clean_text(extracted_text_path)['cleaned_text']\n",
    "\n",
    "print(cleaned_text)"
   ]
  },
  {
   "cell_type": "markdown",
   "metadata": {},
   "source": [
    "## If you have to check by passsing URL, run the below cell"
   ]
  },
  {
   "cell_type": "code",
   "execution_count": 30,
   "metadata": {},
   "outputs": [
    {
     "name": "stderr",
     "output_type": "stream",
     "text": [
      "\u001b[32m2023-12-02 17:43:40.578\u001b[0m | \u001b[1mINFO    \u001b[0m | \u001b[36m__main__\u001b[0m:\u001b[36mextract_text_and_save\u001b[0m:\u001b[36m29\u001b[0m - \u001b[1mAll text extracted, tuts_file/temp.pdf,  saving them....\u001b[0m\n"
     ]
    },
    {
     "name": "stdout",
     "output_type": "stream",
     "text": [
      "PDF-ID temp downloaded successfully.\n",
      "wall cove v dimming smart lighting compatible external driver wwwsstlightingcom quail crest place, lawrence, ks cabinet luminaire product name input power factor power consumption dimming material weight size mounting lifetime warranty optics operating range beam angle equivalence sunstar rc vdc w v dimming anodized extruded aluminum, glass lens lb kg diameter, length recessed mount ceiling, surface mount, mounted conduit , hrs ten year limited warranty milled aluminum primary optic, clear glass lens aluminum reflector, optional translucent diffuse c c traditional w halogen, recessed building material without rough kit damp location ip product led module size housing current housing color beam angle color temperature diffuser sr rc sr x module chips rc recessed sv silver k diffused x module chips bk black k k k cct tuning rgb rgb sr x rc sr x rc e product led module size input current power consumed lumen output fixture efficacy sr x w lm lm w sr x w lm lm w cct , k , k , k , k light output conversion cri sr rc higher cri , , available upon request patented fixture warehouse accessories wall soffit pendants accent exterior smart control rgb green wall tunnel special applications car wash cabinet ceiling cove ceiling\n"
     ]
    }
   ],
   "source": [
    "url = \"https://www.sstlighting.com/CatalogPages/SR50-RC-Undercabinet-Spread.pdf\"\n",
    "\n",
    "pdf_path = download_pdf_from_url(url)\n",
    "extracted_text_path = extract_text_and_save(pdf_path)\n",
    "cleaned_text = clean_text(extracted_text_path)['cleaned_text']\n",
    "\n",
    "print(cleaned_text)\n",
    "\n"
   ]
  },
  {
   "cell_type": "markdown",
   "metadata": {},
   "source": [
    "## You can now load the fine-tuned model and pass the input into the tokenizer and check the results \n",
    "- make sure you have all the deps installed [ torch, cuda, torchvision, cuda etc]\n",
    "\n",
    "- before you run this cell, make sure to download the weights and model file from gdrive [ Link -> https://drive.google.com/drive/folders/13pUf1mRJHguTQPud3cQeflce5eHKBciL?usp=sharing ]\n",
    "\n",
    "- You can either load it via your local downloaded files from gdrive or You can load directly from HF Hub [ Recommended way ]\n",
    "- Checkout the Space here - https://huggingface.co/luci007/LightingData-Bert-Finetuned/tree/main"
   ]
  },
  {
   "cell_type": "code",
   "execution_count": 31,
   "metadata": {},
   "outputs": [
    {
     "name": "stderr",
     "output_type": "stream",
     "text": [
      "/home/manish/.pyenv/versions/3.10.5/envs/ml_dl/lib/python3.10/site-packages/torch/cuda/__init__.py:138: UserWarning: CUDA initialization: The NVIDIA driver on your system is too old (found version 11060). Please update your GPU driver by downloading and installing a new version from the URL: http://www.nvidia.com/Download/index.aspx Alternatively, go to: https://pytorch.org to install a PyTorch version that has been compiled with your version of the CUDA driver. (Triggered internally at ../c10/cuda/CUDAFunctions.cpp:108.)\n",
      "  return torch._C._cuda_getDeviceCount() > 0\n"
     ]
    },
    {
     "name": "stdout",
     "output_type": "stream",
     "text": [
      "Device -->  False\n"
     ]
    },
    {
     "ename": "",
     "evalue": "",
     "output_type": "error",
     "traceback": [
      "\u001b[1;31mThe Kernel crashed while executing code in the the current cell or a previous cell. Please review the code in the cell(s) to identify a possible cause of the failure. Click <a href='https://aka.ms/vscodeJupyterKernelCrash'>here</a> for more info. View Jupyter <a href='command:jupyter.viewOutput'>log</a> for further details."
     ]
    }
   ],
   "source": [
    "## loading the model from HF hub ## \n",
    "\n",
    "device = torch.cuda.is_available()\n",
    "print(\"Device --> \", device)\n",
    "tokenizer_1 = BertTokenizer.from_pretrained('luci007/LightingData-Bert-Finetuned')\n",
    "model_1 = BertForSequenceClassification.from_pretrained(\"luci007/LightingData-Bert-Finetuned\").to(device)\n",
    "\n",
    "# the text which you got extracted and cleaned from the above cell\n",
    "text = cleaned_text\n",
    "\n",
    "inputs = tokenizer_1(text, padding = True, truncation = True, return_tensors='pt').to('cuda')\n",
    "outputs = model_1(**inputs)\n",
    "predictions = torch.nn.functional.softmax(outputs.logits, dim=-1)\n",
    "output_class = predictions.argmax().item()\n",
    "\n",
    "print(\"Pred class from model -> \", output_class)\n",
    "\n"
   ]
  }
 ],
 "metadata": {
  "kernelspec": {
   "display_name": "ml_dl",
   "language": "python",
   "name": "python3"
  },
  "language_info": {
   "codemirror_mode": {
    "name": "ipython",
    "version": 3
   },
   "file_extension": ".py",
   "mimetype": "text/x-python",
   "name": "python",
   "nbconvert_exporter": "python",
   "pygments_lexer": "ipython3",
   "version": "3.10.5"
  }
 },
 "nbformat": 4,
 "nbformat_minor": 2
}
